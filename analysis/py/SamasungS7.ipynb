{
 "cells": [
  {
   "cell_type": "code",
   "execution_count": 5,
   "metadata": {},
   "outputs": [],
   "source": [
    "from src import inspect_device"
   ]
  },
  {
   "cell_type": "code",
   "execution_count": 6,
   "metadata": {},
   "outputs": [
    {
     "name": "stderr",
     "output_type": "stream",
     "text": [
      "/home/alvaro/Documents/GitHub/ubuntutouch-pam-recorder/analysis/r/py/src.py:20: FutureWarning: get_duration() keyword argument 'filename' has been renamed to 'path' in version 0.10.0.\n",
      "\tThis alias will be removed in version 1.0.\n",
      "  df[\"duration\"] = [lr.get_duration(filename=os.path.join(device_folder, \"pam_output\", x)) for x in df[\"basename\"]]\n"
     ]
    }
   ],
   "source": [
    "inspect_device(\"/media/alvaro/BladeHDD/Bioacoustics_BigData/Monteverde_Ubuntutouch/Experimentos/Segundo/SamsungS7/\")"
   ]
  }
 ],
 "metadata": {
  "kernelspec": {
   "display_name": "taboga-monkeys",
   "language": "python",
   "name": "python3"
  },
  "language_info": {
   "codemirror_mode": {
    "name": "ipython",
    "version": 3
   },
   "file_extension": ".py",
   "mimetype": "text/x-python",
   "name": "python",
   "nbconvert_exporter": "python",
   "pygments_lexer": "ipython3",
   "version": "3.10.12"
  },
  "orig_nbformat": 4
 },
 "nbformat": 4,
 "nbformat_minor": 2
}
